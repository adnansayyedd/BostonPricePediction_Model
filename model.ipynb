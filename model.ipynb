{
 "cells": [
  {
   "cell_type": "code",
   "execution_count": 1,
   "id": "5a2743dd",
   "metadata": {},
   "outputs": [],
   "source": [
    "# Import data libraries\n",
    "import pandas as pd\n",
    "import numpy as np\n",
    "import matplotlib.pyplot as plt\n",
    "import seaborn as sns\n",
    "import sklearn\n",
    "\n",
    "# import data warning\n",
    "import warnings\n",
    "warnings.filterwarnings('ignore')\n",
    "\n",
    "# Import logging libraries\n",
    "import logging\n",
    "logging.basicConfig(filename = \"model.log\",\n",
    "                    level=logging.INFO,\n",
    "                    format='%(asctime)s - %(levelname)s - %(message)s')\n",
    "\n"
   ]
  },
  {
   "cell_type": "code",
   "execution_count": null,
   "id": "ed11dcee",
   "metadata": {},
   "outputs": [],
   "source": [
    "# Loading the dataset\n",
    "# Loading the dataset\n",
    "URL = 'https://raw.githubusercontent.com/anirudhajohare19/Crop_Recommendation_Model/refs/heads/main/Crop_Recommendation.csv'\n",
    "df = pd.read_csv(URL)\n",
    "df.sample(frac =1)\n",
    "df"
   ]
  }
 ],
 "metadata": {
  "kernelspec": {
   "display_name": "base",
   "language": "python",
   "name": "python3"
  },
  "language_info": {
   "codemirror_mode": {
    "name": "ipython",
    "version": 3
   },
   "file_extension": ".py",
   "mimetype": "text/x-python",
   "name": "python",
   "nbconvert_exporter": "python",
   "pygments_lexer": "ipython3",
   "version": "3.12.7"
  }
 },
 "nbformat": 4,
 "nbformat_minor": 5
}
